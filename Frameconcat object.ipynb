{
 "cells": [
  {
   "cell_type": "code",
   "execution_count": null,
   "metadata": {
    "collapsed": true
   },
   "outputs": [],
   "source": [
    "class FrameConcat:\n",
    "    \n",
    "    def __init__(self,doubleframe):\n",
    "        self.frames = doubleframe\n",
    "    \n",
    "    def concatinator(self):\n",
    "        concatframes = []\n",
    "        for i in range(2):\n",
    "            Rep= self.frames[i]\n",
    "            concatframes.append(pandas.concat(Rep,ignore_index=True))\n",
    "        return concatframes"
   ]
  }
 ],
 "metadata": {
  "kernelspec": {
   "display_name": "Python 3",
   "language": "python",
   "name": "python3"
  },
  "language_info": {
   "codemirror_mode": {
    "name": "ipython",
    "version": 3
   },
   "file_extension": ".py",
   "mimetype": "text/x-python",
   "name": "python",
   "nbconvert_exporter": "python",
   "pygments_lexer": "ipython3",
   "version": "3.6.1"
  }
 },
 "nbformat": 4,
 "nbformat_minor": 2
}
